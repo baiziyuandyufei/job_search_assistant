{
 "cells": [
  {
   "cell_type": "code",
   "execution_count": 1,
   "metadata": {},
   "outputs": [
    {
     "data": {
      "text/plain": [
       "'给我讲一个关于肥猪的冷笑话'"
      ]
     },
     "execution_count": 1,
     "metadata": {},
     "output_type": "execute_result"
    }
   ],
   "source": [
    "from langchain import PromptTemplate\n",
    "prompt = PromptTemplate(\n",
    "    input_variables = [\"adjective\",\"topic\"],\n",
    "    template = \"给我讲一个关于{topic}的{adjective}笑话\"\n",
    ")\n",
    "prompt.format(adjective=\"冷\",topic=\"肥猪\")"
   ]
  },
  {
   "cell_type": "code",
   "execution_count": 2,
   "metadata": {},
   "outputs": [
    {
     "data": {
      "text/plain": [
       "'给我讲一个关于肥猪的冷笑话'"
      ]
     },
     "execution_count": 2,
     "metadata": {},
     "output_type": "execute_result"
    }
   ],
   "source": [
    "prompt = PromptTemplate.from_template(\n",
    "    \"给我讲一个关于{topic}的{adjective}笑话\"\n",
    ")\n",
    "prompt.format(adjective=\"冷\",topic=\"肥猪\")"
   ]
  },
  {
   "cell_type": "code",
   "execution_count": 5,
   "metadata": {},
   "outputs": [
    {
     "name": "stdout",
     "output_type": "stream",
     "text": [
      "给出每个输入的反义词\n",
      "\n",
      "单词: 快乐\n",
      "反义词:悲伤\n",
      "\n",
      "单词: 高\n",
      "反义词:矮\n",
      "\n",
      "单词: 大\n",
      "反义词: \n"
     ]
    }
   ],
   "source": [
    "from langchain import PromptTemplate, FewShotPromptTemplate\n",
    "\n",
    "examples = [\n",
    "    {\"word\":\"快乐\",\"antonym\":\"悲伤\"},\n",
    "    {\"word\":\"高\",\"antonym\":\"矮\"}\n",
    "]\n",
    "example_prompt = PromptTemplate(\n",
    "    input_variables=[\"word\",\"antonym\"],\n",
    "    template=\"单词: {word}\\n反义词:{antonym}\\n\"\n",
    ")\n",
    "few_shot_prompt = FewShotPromptTemplate(\n",
    "    examples=examples,\n",
    "    example_prompt=example_prompt,\n",
    "    prefix=\"给出每个输入的反义词\\n\",\n",
    "    suffix=\"单词: {input}\\n反义词: \",\n",
    "    input_variables=[\"input\"],\n",
    "    example_separator=\"\\n\"\n",
    ")\n",
    "print(few_shot_prompt.format(input=\"大\"))"
   ]
  }
 ],
 "metadata": {
  "kernelspec": {
   "display_name": "langchain",
   "language": "python",
   "name": "python3"
  },
  "language_info": {
   "codemirror_mode": {
    "name": "ipython",
    "version": 3
   },
   "file_extension": ".py",
   "mimetype": "text/x-python",
   "name": "python",
   "nbconvert_exporter": "python",
   "pygments_lexer": "ipython3",
   "version": "3.11.9"
  }
 },
 "nbformat": 4,
 "nbformat_minor": 2
}
