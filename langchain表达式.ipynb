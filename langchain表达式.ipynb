{
 "cells": [
  {
   "cell_type": "code",
   "execution_count": 1,
   "metadata": {},
   "outputs": [],
   "source": [
    "import os\n",
    "# https://fireworks.ai/api-keys 申请api_key\n",
    "os.environ[\"FIREWORKS_API_KEY\"] = \"HzeWA5AODgQjkCA4vhJYw2wKeXfyG22Qv1CV86q37l2OjAKg\"\n",
    "from langchain_fireworks import ChatFireworks\n",
    "# 使用Mistral-7b\n",
    "llm = ChatFireworks(model=\"accounts/fireworks/models/mixtral-8x7b-instruct\")"
   ]
  },
  {
   "cell_type": "code",
   "execution_count": 6,
   "metadata": {},
   "outputs": [
    {
     "name": "stdout",
     "output_type": "stream",
     "text": [
      "为什么狗熊从来不 forget 他们的密码？\n",
      "\n",
      "因为他们总是 use 他们的 paw  Print 作为安全问题！\n",
      "\n",
      "(译：为什么狗熊从不会忘记他们的密码？因为他们总是使用他们的 paw print （爪痕）作为安全提问！)\n"
     ]
    }
   ],
   "source": [
    "# 管道操作符\n",
    "from langchain.prompts import ChatPromptTemplate\n",
    "from langchain.schema.output_parser import StrOutputParser\n",
    "\n",
    "# 实例化提示词模板\n",
    "prompt = ChatPromptTemplate.from_template(\"用汉语讲一个关于{topic}的笑话。\")\n",
    "# 定义处理链\n",
    "chain = prompt | llm | StrOutputParser()\n",
    "# 调用处理链\n",
    "response = chain.invoke({'topic':'狗熊'})\n",
    "print(response)"
   ]
  },
  {
   "cell_type": "code",
   "execution_count": 7,
   "metadata": {},
   "outputs": [
    {
     "name": "stdout",
     "output_type": "stream",
     "text": [
      "content='为什么狗熊从来不 forget 他们的密码？' response_metadata={'token_usage': {'prompt_tokens': 26, 'total_tokens': 48, 'completion_tokens': 22}, 'model_name': 'accounts/fireworks/models/mixtral-8x7b-instruct', 'system_fingerprint': '', 'finish_reason': 'stop', 'logprobs': None} id='run-8703d421-609f-44b6-9e28-23a2088e5f03-0'\n"
     ]
    }
   ],
   "source": [
    "chain = prompt | llm.bind(stop=['\\n'])\n",
    "response = chain.invoke({'topic':'狗熊'})\n",
    "print(response)"
   ]
  }
 ],
 "metadata": {
  "kernelspec": {
   "display_name": "langchain",
   "language": "python",
   "name": "python3"
  },
  "language_info": {
   "codemirror_mode": {
    "name": "ipython",
    "version": 3
   },
   "file_extension": ".py",
   "mimetype": "text/x-python",
   "name": "python",
   "nbconvert_exporter": "python",
   "pygments_lexer": "ipython3",
   "version": "3.11.9"
  }
 },
 "nbformat": 4,
 "nbformat_minor": 2
}
