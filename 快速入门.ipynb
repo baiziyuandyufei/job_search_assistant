{
 "cells": [
  {
   "cell_type": "markdown",
   "metadata": {},
   "source": [
    "快速入门langchain的教程"
   ]
  },
  {
   "cell_type": "markdown",
   "metadata": {},
   "source": [
    "## LLM链"
   ]
  },
  {
   "cell_type": "code",
   "execution_count": 1,
   "metadata": {},
   "outputs": [],
   "source": [
    "! export LANGCHAIN_TRACING_V2=\"true\"\n",
    "! export LANGCHAIN_API_KEY=\"...\""
   ]
  },
  {
   "cell_type": "markdown",
   "metadata": {},
   "source": [
    "### 语言模型"
   ]
  },
  {
   "cell_type": "code",
   "execution_count": 2,
   "metadata": {},
   "outputs": [
    {
     "data": {
      "text/plain": [
       "'\"Langsmith\"并不是一个普遍熟知的名字或事物，因此无法提供具体的信息。如果这是一个人名，可能需要更多的上下文来确定其身份或含义。'"
      ]
     },
     "execution_count": 2,
     "metadata": {},
     "output_type": "execute_result"
    }
   ],
   "source": [
    "from langchain_community.llms import Ollama\n",
    "llm = Ollama(model=\"qwen:7b\",\n",
    "             base_url=\"http://192.168.1.10:11434\",\n",
    "             num_gpu=1)\n",
    "             \n",
    "llm.invoke(\"LangSmith是什么\")"
   ]
  },
  {
   "cell_type": "markdown",
   "metadata": {},
   "source": [
    "### 聊天模型的提示模板\n",
    "\n",
    "用于为聊天模型创建灵活的模板提示。\n",
    "\n",
    "[langchain_core.prompts.chat.ChatPromptTemplate](langchain_core.prompts.chat.ChatPromptTemplate.ipynb)"
   ]
  },
  {
   "cell_type": "code",
   "execution_count": 3,
   "metadata": {},
   "outputs": [
    {
     "data": {
      "text/plain": [
       "'Langsmith，这个名字通常与语言处理或者人工智能领域的一个工具或模型关联，而不是一个直接帮助测试的实体。\\n\\n如果是指一个名为 Langsmith 的测试辅助工具，那它可能通过以下方式帮助测试：\\n\\n1. **代码覆盖率分析**：Langsmith能自动检测代码中的语句和分支是否被正确地执行，从而提供关于测试覆盖率的信息。\\n\\n2. **性能基准测试**：针对特定功能或系统，Langsmith可以模拟真实用户行为进行大规模的性能基准测试，以此评估产品在不同负载下的表现。\\n\\n3. **缺陷跟踪与管理**：Langsmith能帮助识别和记录测试过程中发现的问题，方便团队进行问题追踪和解决。\\n\\n总之，如果Langsmith是一个工具或者模型，它可以通过自动化测试、代码分析、性能评估等多种方式来辅助测试工作。'"
      ]
     },
     "execution_count": 3,
     "metadata": {},
     "output_type": "execute_result"
    }
   ],
   "source": [
    "from langchain_core.prompts import ChatPromptTemplate\n",
    "prompt = ChatPromptTemplate.from_messages([\n",
    "    (\"system\", \"你是一位世界一流的技术文档作家。\"),\n",
    "    (\"user\", \"{input}\")\n",
    "])\n",
    "chain = prompt | llm \n",
    "chain.invoke({\"input\": \"Langsmith如何帮助测试？\"})"
   ]
  },
  {
   "cell_type": "markdown",
   "metadata": {},
   "source": [
    "### 输出解析器\n",
    "\n",
    "用于解析LLM结果到最可能字符串\n",
    "\n",
    "[langchain_core.output_parsers.string.StrOutputParser](langchain_core.output_parsers.string.StrOutputParser.ipynb)"
   ]
  },
  {
   "cell_type": "code",
   "execution_count": 4,
   "metadata": {},
   "outputs": [
    {
     "data": {
      "text/plain": [
       "'Langsmith可能并不是一个明确的工具或服务，但如果你是在询问关于语言翻译和辅助测试的一般方法，那么我可以给出如下解释：\\n\\n1. **语言翻译**：在测试环境中，如果需要对非母语的测试人员或者自动化脚本进行支持，可以利用Langsmith这样的翻译工具。它能够实时将源语言文本转化为目标语言，从而帮助理解、编写或校对多语言测试内容。\\n\\n2. **辅助测试**：有时候，虽然文字翻译没问题，但为了确保测试过程的清晰和可重复性，Langsmith或者类似的工具可能还不能直接应用。这时，可能需要结合专业的测试管理软件（如JIRA、TestRail等）来协调和记录各种语言的测试任务。\\n\\n总结来说，Langsmith在帮助多语言测试中可以作为一个辅助工具，但要确保测试过程的完整性和可重复性，可能还需要与其他专业测试工具和服务相结合。'"
      ]
     },
     "execution_count": 4,
     "metadata": {},
     "output_type": "execute_result"
    }
   ],
   "source": [
    "from langchain_core.output_parsers import StrOutputParser\n",
    "\n",
    "output_parser = StrOutputParser()\n",
    "chain = prompt | llm | output_parser\n",
    "chain.invoke({\"input\": \"Langsmith如何帮助测试？\"})"
   ]
  },
  {
   "cell_type": "markdown",
   "metadata": {},
   "source": [
    "### 小结\n",
    "\n",
    "至此，讨论了基本的LLM链，涉及语言模型、提示、输出解析器，更深入的部分，参考\n",
    "\n",
    "[模型I/O](模型IO.ipynb)"
   ]
  },
  {
   "cell_type": "markdown",
   "metadata": {},
   "source": [
    "## 检索链\n",
    "\n"
   ]
  },
  {
   "cell_type": "code",
   "execution_count": 5,
   "metadata": {},
   "outputs": [
    {
     "data": {
      "text/plain": [
       "'Langsmith通过可视化功能帮助测试。这意味着它可能提供了一种图形化的方式来展示测试的结果，使得测试结果更加直观易懂。'"
      ]
     },
     "execution_count": 5,
     "metadata": {},
     "output_type": "execute_result"
    }
   ],
   "source": [
    "from langchain.chains.combine_documents import create_stuff_documents_chain\n",
    "from langchain_core.documents import Document\n",
    "\n",
    "# 创建提示模板\n",
    "prompt = ChatPromptTemplate.from_template(\"\"\"Answer the following question based only on the provided context:\n",
    "\n",
    "<context>\n",
    "{context}\n",
    "</context>\n",
    "\n",
    "Question: {input}\"\"\")\n",
    "\n",
    "# 创建填充文档链，调用它的invoke方法时，需要传入字典，键为提示中的变量，值为提示中变量的值\n",
    "document_chain = create_stuff_documents_chain(llm, prompt)\n",
    "\n",
    "# 直接将Document实例传入上下文\n",
    "document_chain.invoke({\n",
    "    \"input\": \"Langsmith如何帮助测试？\",\n",
    "    \"context\": [Document(page_content=\"langsmith can let you visualize test results\")]\n",
    "})"
   ]
  },
  {
   "cell_type": "markdown",
   "metadata": {},
   "source": [
    "## 对话链"
   ]
  },
  {
   "cell_type": "code",
   "execution_count": 6,
   "metadata": {},
   "outputs": [],
   "source": [
    "from langchain_community.llms import Ollama\n",
    "from langchain_community.document_loaders import WebBaseLoader\n",
    "from langchain_community.embeddings import OllamaEmbeddings\n",
    "from langchain_community.vectorstores import FAISS\n",
    "from langchain_text_splitters import RecursiveCharacterTextSplitter\n",
    "from langchain_core.prompts import ChatPromptTemplate\n",
    "from langchain_core.messages import HumanMessage, AIMessage\n",
    "from langchain_core.prompts import MessagesPlaceholder\n",
    "from langchain.chains import create_history_aware_retriever\n",
    "from langchain.chains.combine_documents import create_stuff_documents_chain\n",
    "from langchain.chains import create_retrieval_chain\n",
    "\n",
    "\n",
    "# 加载语言模型 \n",
    "# https://api.python.langchain.com/en/latest/llms/langchain_community.llms.ollama.Ollama.html\n",
    "llm = Ollama(model=\"qwen:7b\",\n",
    "             base_url=\"http://192.168.1.10:11434\",\n",
    "             num_gpu=1)\n",
    "\n",
    "# 构建知识库\n",
    "loader = WebBaseLoader(\"https://docs.smith.langchain.com/user_guide\")\n",
    "docs = loader.load()\n",
    "# https://api.python.langchain.com/en/latest/embeddings/langchain_community.embeddings.ollama.OllamaEmbeddings.html\n",
    "embeddings = OllamaEmbeddings(\n",
    "    model=\"shaw/dmeta-embedding-zh:latest\",\n",
    "    base_url=\"http://192.168.1.10:11434\",\n",
    "    num_gpu=1\n",
    ")\n",
    "text_splitter = RecursiveCharacterTextSplitter()\n",
    "documents = text_splitter.split_documents(docs)\n",
    "vector = FAISS.from_documents(documents, embeddings)\n",
    "retriever = vector.as_retriever()\n",
    "\n",
    "# 首先创建一个提示，接收聊天记录、用户输入\n",
    "prompt = ChatPromptTemplate.from_messages([\n",
    "    MessagesPlaceholder(variable_name=\"chat_history\"),\n",
    "    (\"user\", \"{input}\"),\n",
    "    (\"user\", \"Given the above conversation, generate a search query to look up to get information relevant to the conversation\")\n",
    "])\n",
    "# 创建检索器\n",
    "retriever2 = create_history_aware_retriever(llm, retriever, prompt)\n",
    "# 再创建一个提示，接收检索返回、聊天记录、用户输入\n",
    "prompt = ChatPromptTemplate.from_messages([\n",
    "    (\"system\", \"Answer the user's questions based on the below context:\\n\\n{context}\"),\n",
    "    MessagesPlaceholder(variable_name=\"chat_history\"),\n",
    "    (\"user\", \"{input}\"),\n",
    "])\n",
    "# 创建文档填充链\n",
    "document_chain = create_stuff_documents_chain(llm, prompt)\n",
    "# 创建检索链\n",
    "retrieval_chain = create_retrieval_chain(retriever2, document_chain)\n"
   ]
  },
  {
   "cell_type": "code",
   "execution_count": 7,
   "metadata": {},
   "outputs": [
    {
     "name": "stdout",
     "output_type": "stream",
     "text": [
      "{'answer': '要利用 LangSmith 进行 LLM 应用程序的测试，你可以按照以下步骤操作：\\n'\n",
      "           '\\n'\n",
      "           '1. **设置日志系统**：\\n'\n",
      "           '   首先，在你的 LLM 应用中集成 LangSmith。确保你有正确的 API 密钥或其他认证方式来与 LangSmith '\n",
      "           '服务交互。\\n'\n",
      "           '\\n'\n",
      "           '2. **配置测试环境**：\\n'\n",
      "           '   根据你的应用需求，确定需要进行哪些方面的测试。这可能包括对特定模型的性能、处理不同输入数据的能力等方面。\\n'\n",
      "           '\\n'\n",
      "           '3. **编写和运行测试用例**：\\n'\n",
      "           '   使用 LangSmith 提供的 API 或 SDK '\n",
      "           '编写自动化测试脚本。这些脚本可以在不同的场景下运行，比如模拟用户对话，或者针对模型的特定输入进行验证。\\n'\n",
      "           '\\n'\n",
      "           '4. **分析和调试结果**：\\n'\n",
      "           '   在测试过程中，可能会发现一些预期之外的问题或错误。这时，你可以使用 LangSmith 的追踪和调试功能来定位问题并解决。\\n'\n",
      "           '\\n'\n",
      "           '通过以上步骤，你就可以利用 LangSmith 来进行全面而细致的 LLM 应用程序测试了。',\n",
      " 'chat_history': [HumanMessage(content='LangSmith 可以帮助测试我的 LLM 应用吗？'),\n",
      "                  AIMessage(content='是的!')],\n",
      " 'context': [Document(page_content='LangSmith User Guide | 🦜️🛠️ LangSmith', metadata={'source': 'https://docs.smith.langchain.com/user_guide', 'title': 'LangSmith User Guide | 🦜️🛠️ LangSmith', 'description': 'LangSmith is a platform for LLM application development, monitoring, and testing. In this guide, we’ll highlight the breadth of workflows LangSmith supports and how they fit into each stage of the application development lifecycle. We hope this will inform users how to best utilize this powerful platform or give them something to consider if they’re just starting their journey.', 'language': 'en'}),\n",
      "             Document(page_content='meaning that they involve a series of interactions between the user and the application. LangSmith provides a threads view that groups traces from a single conversation together, making it easier to track the performance of and annotate your application across multiple turns.Was this page helpful?PreviousQuick StartNextOverviewPrototypingBeta TestingProductionCommunityDiscordTwitterGitHubDocs CodeLangSmith SDKPythonJS/TSMoreHomepageBlogLangChain Python DocsLangChain JS/TS DocsCopyright © 2024 LangChain, Inc.', metadata={'source': 'https://docs.smith.langchain.com/user_guide', 'title': 'LangSmith User Guide | 🦜️🛠️ LangSmith', 'description': 'LangSmith is a platform for LLM application development, monitoring, and testing. In this guide, we’ll highlight the breadth of workflows LangSmith supports and how they fit into each stage of the application development lifecycle. We hope this will inform users how to best utilize this powerful platform or give them something to consider if they’re just starting their journey.', 'language': 'en'}),\n",
      "             Document(page_content='Skip to main contentLangSmith API DocsSearchGo to AppQuick StartUser GuideTracingEvaluationProduction Monitoring & AutomationsPrompt HubProxyPricingSelf-HostingCookbookThis is outdated documentation for 🦜️🛠️ LangSmith, which is no longer actively maintained.For up-to-date documentation, see the latest version.User GuideOn this pageLangSmith User GuideLangSmith is a platform for LLM application development, monitoring, and testing. In this guide, we’ll highlight the breadth of workflows LangSmith supports and how they fit into each stage of the application development lifecycle. We hope this will inform users how to best utilize this powerful platform or give them something to consider if they’re just starting their journey.Prototyping\\u200bPrototyping LLM applications often involves quick experimentation between prompts, model types, retrieval strategy and other parameters.\\nThe ability to rapidly understand how the model is performing — and debug where it is failing — is incredibly important for this phase.Debugging\\u200bWhen developing new LLM applications, we suggest having LangSmith tracing enabled by default.\\nOftentimes, it isn’t necessary to look at every single trace. However, when things go wrong (an unexpected end result, infinite agent loop, slower than expected execution, higher than expected token usage), it’s extremely helpful to debug by looking through the application traces. LangSmith gives clear visibility and debugging information at each step of an LLM sequence, making it much easier to identify and root-cause issues.\\nWe provide native rendering of chat messages, functions, and retrieve documents.Initial Test Set\\u200bWhile many developers still ship an initial version of their application based on “vibe checks”, we’ve seen an increasing number of engineering teams start to adopt a more test driven approach. LangSmith allows developers to create datasets, which are collections of inputs and reference outputs, and use these to run tests on their LLM applications.\\nThese test cases can be uploaded in bulk, created on the fly, or exported from application traces. LangSmith also makes it easy to run custom evaluations (both LLM and heuristic based) to score test results.Comparison View\\u200bWhen prototyping different versions of your applications and making changes, it’s important to see whether or not you’ve regressed with respect to your initial test cases.\\nOftentimes, changes in the prompt, retrieval strategy, or model choice can have huge implications in responses produced by your application.\\nIn order to get a sense for which variant is performing better, it’s useful to be able to view results for different configurations on the same datapoints side-by-side. We’ve invested heavily in a user-friendly comparison view for test runs to track and diagnose regressions in test scores across multiple revisions of your application.Playground\\u200bLangSmith provides a playground environment for rapid iteration and experimentation.\\nThis allows you to quickly test out different prompts and models. You can open the playground from any prompt or model run in your trace.', metadata={'source': 'https://docs.smith.langchain.com/user_guide', 'title': 'LangSmith User Guide | 🦜️🛠️ LangSmith', 'description': 'LangSmith is a platform for LLM application development, monitoring, and testing. In this guide, we’ll highlight the breadth of workflows LangSmith supports and how they fit into each stage of the application development lifecycle. We hope this will inform users how to best utilize this powerful platform or give them something to consider if they’re just starting their journey.', 'language': 'en'}),\n",
      "             Document(page_content=\"Every playground run is logged in the system and can be used to create test cases or compare with other runs.Beta Testing\\u200bBeta testing allows developers to collect more data on how their LLM applications are performing in real-world scenarios. In this phase, it’s important to develop an understanding for the types of inputs the app is performing well or poorly on and how exactly it’s breaking down in those cases. Both feedback collection and run annotation are critical for this workflow. This will help in curation of test cases that can help track regressions/improvements and development of automatic evaluations.Capturing Feedback\\u200bWhen launching your application to an initial set of users, it’s important to gather human feedback on the responses it’s producing. This helps draw attention to the most interesting runs and highlight edge cases that are causing problematic responses. LangSmith allows you to attach feedback scores to logged traces (oftentimes, this is hooked up to a feedback button in your app), then filter on traces that have a specific feedback tag and score. A common workflow is to filter on traces that receive a poor user feedback score, then drill down into problematic points using the detailed trace view.Annotating Traces\\u200bLangSmith also supports sending runs to annotation queues, which allow annotators to closely inspect interesting traces and annotate them with respect to different criteria. Annotators can be PMs, engineers, or even subject matter experts. This allows users to catch regressions across important evaluation criteria.Adding Runs to a Dataset\\u200bAs your application progresses through the beta testing phase, it's essential to continue collecting data to refine and improve its performance. LangSmith enables you to add runs as examples to datasets (from both the project page and within an annotation queue), expanding your test coverage on real-world scenarios. This is a key benefit in having your logging system and your evaluation/testing system in the same platform.Production\\u200bClosely inspecting key data points, growing benchmarking datasets, annotating traces, and drilling down into important data in trace view are workflows you’ll also want to do once your app hits production.However, especially at the production stage, it’s crucial to get a high-level overview of application performance with respect to latency, cost, and feedback scores. This ensures that it's delivering desirable results at scale.Online evaluations and automations allow you to process and score production traces in near real-time.Additionally, threads provide a seamless way to group traces from a single conversation, making it easier to track the performance of your application across multiple turns.Monitoring and A/B Testing\\u200bLangSmith provides monitoring charts that allow you to track key metrics over time. You can expand to view metrics for a given period and drill down into a specific data point to get a trace table for that time period — this is especially handy for debugging production issues.LangSmith also allows for tag and metadata grouping, which allows users to mark different versions of their applications with different identifiers and view how they are performing side-by-side within each chart. This is helpful for A/B testing changes in prompt, model, or retrieval strategy.Automations\\u200bAutomations are a powerful feature in LangSmith that allow you to perform actions on traces in near real-time. This can be used to automatically score traces, send them to annotation queues, or send them to datasets.To define an automation, simply provide a filter condition, a sampling rate, and an action to perform. Automations are particularly helpful for processing traces at production scale.Threads\\u200bMany LLM applications are multi-turn, meaning that they involve a series of interactions between the user and the application. LangSmith provides a threads view that groups traces from a single conversation together, making it easier to\", metadata={'source': 'https://docs.smith.langchain.com/user_guide', 'title': 'LangSmith User Guide | 🦜️🛠️ LangSmith', 'description': 'LangSmith is a platform for LLM application development, monitoring, and testing. In this guide, we’ll highlight the breadth of workflows LangSmith supports and how they fit into each stage of the application development lifecycle. We hope this will inform users how to best utilize this powerful platform or give them something to consider if they’re just starting their journey.', 'language': 'en'})],\n",
      " 'input': '告诉我怎样做'}\n"
     ]
    }
   ],
   "source": [
    "from pprint import pprint \n",
    "\n",
    "\n",
    "chat_history = [HumanMessage(content=\"LangSmith 可以帮助测试我的 LLM 应用吗？\"), \n",
    "                AIMessage(content=\"是的!\")]\n",
    "pprint(retrieval_chain.invoke({\n",
    "    \"chat_history\": chat_history,\n",
    "    \"input\": \"告诉我怎样做\"\n",
    "}))"
   ]
  },
  {
   "cell_type": "code",
   "execution_count": 8,
   "metadata": {},
   "outputs": [],
   "source": [
    "from langchain.tools.retriever import create_retriever_tool\n",
    "\n",
    "retriever_tool = create_retriever_tool(\n",
    "    retriever2,\n",
    "    \"langsmith_search\",\n",
    "    \"Search for information about LangSmith. For any questions about LangSmith, you must use this tool!\",\n",
    ")"
   ]
  },
  {
   "cell_type": "code",
   "execution_count": 9,
   "metadata": {},
   "outputs": [
    {
     "data": {
      "text/plain": [
       "[Document(page_content='查询全国各地今天天气情况，包括温度、降水、风力、湿度、气压等指标。北京今天25℃/13℃，晴，微风，相对湿度31%，气压1004hpa。江南东部和华南等地有强降水和强对流，内蒙古宁夏华北西部等地有大风降温。', metadata={'title': '中国气象局-天气预报', 'source': 'https://weather.cma.cn/', 'score': 0.95843, 'images': None}),\n",
       " Document(page_content='2345天气预报提供全国3259个城区及全球40天天气预报查询服务，可以查询今天的天气情况，如多云，温度10~23°，空气优，紫外线很弱。还可以查看未来15天和40天的天气变化，以及生活指数、交通指数、旅行出游指数等专业天气预报资讯。', metadata={'title': '天气,天气预报查询,24小时,今天,明天,未来一周7天,10天,15天,40天查询_2345天气预报', 'source': 'https://tianqi.2345.com/', 'score': 0.93195, 'images': None}),\n",
       " Document(page_content='天气网提供全国各地的天气预报、气象公告、生活养生、旅游景点等信息。查询今天天气怎么样，可以查看全国24小时降水量预报、全国入春进程图、全国主要公路气象预报等。', metadata={'title': '天气网', 'source': 'http://www.weather.com.cn/', 'score': 0.9051, 'images': None})]"
      ]
     },
     "execution_count": 9,
     "metadata": {},
     "output_type": "execute_result"
    }
   ],
   "source": [
    "import getpass\n",
    "import os\n",
    "\n",
    "# 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\n",
    "os.environ[\"TAVILY_API_KEY\"] = getpass.getpass()\n",
    "\n",
    "from langchain_community.retrievers import TavilySearchAPIRetriever\n",
    "\n",
    "retriever = TavilySearchAPIRetriever(k=3)\n",
    "\n",
    "retriever.invoke(\"今天天气怎么样？\")"
   ]
  }
 ],
 "metadata": {
  "kernelspec": {
   "display_name": "Python 3 (ipykernel)",
   "language": "python",
   "name": "python3"
  },
  "language_info": {
   "codemirror_mode": {
    "name": "ipython",
    "version": 3
   },
   "file_extension": ".py",
   "mimetype": "text/x-python",
   "name": "python",
   "nbconvert_exporter": "python",
   "pygments_lexer": "ipython3",
   "version": "3.11.9"
  }
 },
 "nbformat": 4,
 "nbformat_minor": 2
}
