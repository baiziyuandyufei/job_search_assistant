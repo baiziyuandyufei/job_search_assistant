{
 "cells": [
  {
   "cell_type": "code",
   "execution_count": 2,
   "metadata": {},
   "outputs": [],
   "source": [
    "from langchain_fireworks import ChatFireworks\n",
    "from dotenv import load_dotenv\n",
    "load_dotenv()\n",
    "# 使用Mistral-8*7b\n",
    "llm = ChatFireworks(model=\"accounts/fireworks/models/mixtral-8x7b-instruct\")"
   ]
  },
  {
   "cell_type": "code",
   "execution_count": 3,
   "metadata": {},
   "outputs": [
    {
     "name": "stdout",
     "output_type": "stream",
     "text": [
      "首先，需要 clarify 一下具体的训练场景和参数，例如 batch size, learning rate, sequence length 等，这些都会影响到训练时间。\n",
      "但是，基于一些估算，我们可以假设每个 batch 需要 1 秒左右的时间，那么 1 亿数据需要进行 1000 万次迭代。如果使用 8 张 A100  GPU， batch size 设置为 128，那么每个 GPU 需要 approximately 2500 个 epoch 才能完成 1 亿数据的训练。因此，总的训练时间可能需要几天到几周，具体取决于 GPU 的利用率和其他因素。\n",
      "请注意，这只是一个估算，实际训练时间可能会有所不同。\n"
     ]
    }
   ],
   "source": [
    "import re\n",
    "\n",
    "# 系统提示\n",
    "system = \"你是一个有帮助的助手。\"\n",
    "# 人员输入\n",
    "human = \"{text}\"\n",
    "# 提示模板\n",
    "from langchain_core.prompts import ChatPromptTemplate\n",
    "prompt = ChatPromptTemplate.from_messages([\n",
    "    (\"system\",system),\n",
    "    (\"human\", human)\n",
    "    ])\n",
    "# 创建链\n",
    "from langchain_core.output_parsers import StrOutputParser\n",
    "chain = prompt | llm | StrOutputParser()\n",
    "# 调用链\n",
    "res = chain.invoke({\"text\": \"预训练8卡A100，1亿数据需要多久？60B的开源大模型。用汉语回答问题。\"})\n",
    "res = re.sub('\\n\\n','\\n',res)\n",
    "print(res)"
   ]
  },
  {
   "cell_type": "code",
   "execution_count": 4,
   "metadata": {},
   "outputs": [
    {
     "data": {
      "text/plain": [
       "'感谢HR的回复和考虑。虽然我没有被选中，但我会继续努力，希望在未来有机会能够加入贵公司。祝公司业务顺利发展！'"
      ]
     },
     "execution_count": 4,
     "metadata": {},
     "output_type": "execute_result"
    }
   ],
   "source": [
    "# 专用于求职助手的函数\n",
    "import re\n",
    "\n",
    "def JobAssistant(user_input):\n",
    "    res = chain.invoke({\"text\": \n",
    "                        f\"\"\"\n",
    "    HR问或说：“{user_input}”，\n",
    "    你帮我用汉语回答：\n",
    "    \"\"\"})\n",
    "    res = re.sub('\\n\\n','\\n',res)\n",
    "    return res\n",
    "\n",
    "JobAssistant(\"感谢您的关注，您不太适合我这个职位\")"
   ]
  },
  {
   "cell_type": "code",
   "execution_count": 2,
   "metadata": {},
   "outputs": [
    {
     "name": "stdout",
     "output_type": "stream",
     "text": [
      "很高兴收到您的联系！是的，我对算法工程师这个职位表示非常感兴趣。我已经准备好了我的简历，可以立即发送过来。感谢您给我这个机会，期待能加入京东物流的团队，共同发扬技术的力量。\n"
     ]
    }
   ],
   "source": [
    "# 专用于求职助手的函数\n",
    "import re\n",
    "from langchain_core.output_parsers import StrOutputParser\n",
    "from langchain_core.prompts import ChatPromptTemplate\n",
    "from langchain_fireworks import ChatFireworks\n",
    "from dotenv import load_dotenv\n",
    "\n",
    "\n",
    "load_dotenv()\n",
    "llm = ChatFireworks(model=\"accounts/fireworks/models/mixtral-8x7b-instruct\")\n",
    "\n",
    "def JobAssistant(user_input):\n",
    "    prompt = ChatPromptTemplate.from_messages([\n",
    "    (\"system\",\"你是一个求职助手，用汉语交流。\"),\n",
    "    (\"human\", \"{text}\")\n",
    "    ])\n",
    "    chain = prompt | llm | StrOutputParser()\n",
    "    res = chain.invoke({\"text\": f\"\"\"HR问或说：“{user_input}”，你用汉语回答（回答内容中只能出现汉语）：\"\"\"})\n",
    "    res = re.sub('\\n\\n','\\n',res)\n",
    "    return res\n",
    "\n",
    "print(JobAssistant(\"\"\"\n",
    "请问你对我司算法工程师岗位有意向吗？\n",
    "您好，京东物流正在招聘算法工程师，我们是一家快递企业，目前有数万名员工，公司已上市,方便发份详细的简历过来吗？\n",
    "\"\"\"))"
   ]
  }
 ],
 "metadata": {
  "kernelspec": {
   "display_name": "langchain",
   "language": "python",
   "name": "python3"
  },
  "language_info": {
   "codemirror_mode": {
    "name": "ipython",
    "version": 3
   },
   "file_extension": ".py",
   "mimetype": "text/x-python",
   "name": "python",
   "nbconvert_exporter": "python",
   "pygments_lexer": "ipython3",
   "version": "3.1.-1"
  }
 },
 "nbformat": 4,
 "nbformat_minor": 2
}
