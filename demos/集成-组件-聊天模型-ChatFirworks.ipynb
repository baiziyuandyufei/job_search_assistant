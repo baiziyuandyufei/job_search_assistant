{
 "cells": [
  {
   "cell_type": "code",
   "execution_count": 1,
   "metadata": {},
   "outputs": [
    {
     "name": "stdout",
     "output_type": "stream",
     "text": [
      "LANGCHAIN_TRACING_V2: True\n",
      "LANGCHAIN_ENDPOINT: https://api.smith.langchain.com\n",
      "LANGCHAIN_API_KEY: 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\n",
      "LANGCHAIN_PROJECT: lx\n"
     ]
    }
   ],
   "source": [
    "from dotenv import load_dotenv\n",
    "import os\n",
    "\n",
    "load_dotenv()\n",
    "os.environ[\"LANGCHAIN_PROJECT\"] = \"lx\"\n",
    "\n",
    "print(f'LANGCHAIN_TRACING_V2: {os.getenv(\"LANGCHAIN_TRACING_V2\", \"未设置\")}')\n",
    "print(f'LANGCHAIN_ENDPOINT: {os.getenv(\"LANGCHAIN_ENDPOINT\", \"未设置\")}')\n",
    "print(f'LANGCHAIN_API_KEY: {os.getenv(\"LANGCHAIN_API_KEY\", \"未设置\")}')\n",
    "print(f'LANGCHAIN_PROJECT: {os.getenv(\"LANGCHAIN_PROJECT\", \"未设置\")}')"
   ]
  },
  {
   "cell_type": "code",
   "execution_count": 2,
   "metadata": {},
   "outputs": [
    {
     "data": {
      "text/plain": [
       "AIMessage(content=\"Hello! I'm an AI language model, a helpful assistant here to chat with you and provide information, answer questions, and engage in conversation on a wide range of topics. How can I assist you today?\", response_metadata={'token_usage': {'prompt_tokens': 21, 'total_tokens': 65, 'completion_tokens': 44}, 'model_name': 'accounts/fireworks/models/mixtral-8x7b-instruct', 'system_fingerprint': '', 'finish_reason': 'stop', 'logprobs': None}, id='run-5ed128ee-c9b1-4a4a-a07f-16f23db33d44-0')"
      ]
     },
     "execution_count": 2,
     "metadata": {},
     "output_type": "execute_result"
    }
   ],
   "source": [
    "from langchain_core.messages import HumanMessage, SystemMessage\n",
    "from langchain_fireworks import ChatFireworks\n",
    "\n",
    "# Initialize a Fireworks chat model\n",
    "chat = ChatFireworks(model=\"accounts/fireworks/models/mixtral-8x7b-instruct\")\n",
    "\n",
    "# ChatFireworks Wrapper\n",
    "system_message = SystemMessage(content=\"You are to chat with the user.\")\n",
    "human_message = HumanMessage(content=\"Who are you?\")\n",
    "\n",
    "chat.invoke([system_message, human_message])"
   ]
  },
  {
   "cell_type": "code",
   "execution_count": 3,
   "metadata": {},
   "outputs": [
    {
     "data": {
      "text/plain": [
       "AIMessage(content=\"I'm an AI and don't have real-time access to weather data, so I\", response_metadata={'token_usage': {'prompt_tokens': 24, 'total_tokens': 44, 'completion_tokens': 20}, 'model_name': 'accounts/fireworks/models/mixtral-8x7b-instruct', 'system_fingerprint': '', 'finish_reason': 'length', 'logprobs': None}, id='run-1127cee0-65dc-4a9c-80a5-104a831cf071-0')"
      ]
     },
     "execution_count": 3,
     "metadata": {},
     "output_type": "execute_result"
    }
   ],
   "source": [
    "# Setting additional parameters: temperature, max_tokens, top_p\n",
    "chat = ChatFireworks(\n",
    "    model=\"accounts/fireworks/models/mixtral-8x7b-instruct\",\n",
    "    temperature=1,\n",
    "    max_tokens=20,\n",
    ")\n",
    "system_message = SystemMessage(content=\"You are to chat with the user.\")\n",
    "human_message = HumanMessage(content=\"How's the weather today?\")\n",
    "chat.invoke([system_message, human_message])"
   ]
  },
  {
   "cell_type": "code",
   "execution_count": 5,
   "metadata": {},
   "outputs": [
    {
     "name": "stdout",
     "output_type": "stream",
     "text": [
      "{'function': {'arguments': '{\"name\": \"我是你爹\", \"age\": 27}',\n",
      "              'name': 'ExtractFields'},\n",
      " 'id': 'call_LJTd16hVS9ktVz4k1d0wopFV',\n",
      " 'index': 0,\n",
      " 'type': 'function'}\n"
     ]
    }
   ],
   "source": [
    "# FireFunction-v2\n",
    "from pprint import pprint\n",
    "from langchain_core.pydantic_v1 import BaseModel\n",
    "\n",
    "\n",
    "class ExtractFields(BaseModel):\n",
    "    name: str\n",
    "    age: int\n",
    "\n",
    "chat = ChatFireworks(\n",
    "    model=\"accounts/fireworks/models/firefunction-v2\",\n",
    ").bind_tools([ExtractFields])\n",
    "\n",
    "result = chat.invoke(\"我27岁，名字叫'我是你爹'\")\n",
    "\n",
    "pprint(result.additional_kwargs[\"tool_calls\"][0])"
   ]
  },
  {
   "cell_type": "code",
   "execution_count": 1,
   "metadata": {},
   "outputs": [
    {
     "name": "stdout",
     "output_type": "stream",
     "text": [
      "当然，以下是几个北京特色的美食建议：\n",
      "\n",
      "1. 烤鸭 (Peking Duck)：这是新华国际（Quanjude）和四季春（Bianyifang）等著名餐厅的必吃菜肴。\n",
      "\n",
      "2. 鼓浪屿炸酱面 (Gu LAO Ji Zha Jiang Mian)：国内外闻名的老北京面食，最令人难忘的口感之一。\n",
      "\n",
      "3. 炸酱denly (Zha Jiang Mian)：这是另一种口感风格不同的老北京炸酱面，经典且香辣。\n",
      "\n",
      "4. 面条捞鸡窝 (Jiaozi Wan Ji)：是一种在汤里面捞鸡窝汤饼的北京方式，不一定每家餐厅都有。\n",
      "\n",
      "5. 糍子馒头 (Mantou)：最简单的北京烤面包，没有油的汤饼，常吃在清淡食物。\n",
      "\n",
      "6. 醋溜子 (Cu Liu Zi)：用米粉制成，老北京人最爱吃的主食之一。\n",
      "\n",
      "7. 豆腐脑 (Doufu Naod)：豆腐与豆腐皮烧炸后，混合鲜嫩的牛肉与猪心，制成淋入甜辣香鲜的酱汁的美味小吃。\n",
      "\n",
      "8. 炸酱牛肉手撕包子 (Zha Jiang Niu Rou Shou Si Baozi)：牛肉鲜甜，与酱汁的搭配味道特别香味。\n",
      "\n",
      "9. 凉拌糯米藜米 (Liang Ban Nuo Mi Mi)：清爽可口的食物，适配北京的热夏天。\n",
      "\n",
      "10. 姥姥黄 (Laolao Huang)：热销的老北京甜品，是用糯米糍为基础，加入松子、花生、糖浆等混合制成。\n",
      "\n",
      "您一定能在北京享受到美味的特色美食！\n"
     ]
    }
   ],
   "source": [
    "# 跟踪聊天示例\n",
    "import os\n",
    "from langchain_core.output_parsers import StrOutputParser\n",
    "from langsmith.run_helpers import traceable\n",
    "from langchain_core.prompts import PromptTemplate\n",
    "from langchain_fireworks import ChatFireworks\n",
    "from dotenv import load_dotenv\n",
    "\n",
    "load_dotenv()\n",
    " \n",
    "os.environ['LANGCHAIN_TRACING_V2'] = 'true'\n",
    " \n",
    "chat = ChatFireworks(\n",
    "    model=\"accounts/fireworks/models/mixtral-8x7b-instruct\",\n",
    "    temperature=1,\n",
    ")\n",
    "\n",
    "@traceable  # Auto-trace this function\n",
    "def pipeline(user_input: str):\n",
    "    chain = PromptTemplate.from_template(\"你是一个导游专家，回答下边的问题：{user_input}\") | chat | StrOutputParser() \n",
    "    return chain.invoke(user_input)\n",
    " \n",
    "\n",
    "print(pipeline(\"我家在北京，请推荐一下特色美食？3\"))\n"
   ]
  }
 ],
 "metadata": {
  "kernelspec": {
   "display_name": "langchain-py11",
   "language": "python",
   "name": "python3"
  },
  "language_info": {
   "codemirror_mode": {
    "name": "ipython",
    "version": 3
   },
   "file_extension": ".py",
   "mimetype": "text/x-python",
   "name": "python",
   "nbconvert_exporter": "python",
   "pygments_lexer": "ipython3",
   "version": "3.11.9"
  }
 },
 "nbformat": 4,
 "nbformat_minor": 2
}
