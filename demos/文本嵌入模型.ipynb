{
 "cells": [
  {
   "cell_type": "code",
   "execution_count": 2,
   "metadata": {},
   "outputs": [
    {
     "name": "stdout",
     "output_type": "stream",
     "text": [
      "doc_result[0]的模: 0.9997713049891235\n",
      "doc_result[1]的模: 0.99977603553449\n",
      "doc_result[0]与doc_result[1]之间的相似度: 0.42591513161269745\n"
     ]
    }
   ],
   "source": [
    "# FireWorks\n",
    "# https://python.langchain.com/v0.1/docs/integrations/text_embedding/fireworks/\n",
    "# https://readme.fireworks.ai/docs/querying-embeddings-models#list-of-available-models \n",
    "from langchain_fireworks import FireworksEmbeddings\n",
    "from dotenv import load_dotenv\n",
    "import numpy as np\n",
    "\n",
    "load_dotenv()\n",
    "embedding_model = FireworksEmbeddings(model=\"nomic-ai/nomic-embed-text-v1.5\")\n",
    "\n",
    "text_li = ['How is the weather today?', '今天天气怎么样?']\n",
    "doc_result = embedding_model.embed_documents(text_li)\n",
    "print(f\"doc_result[0]的模: {np.linalg.norm(doc_result[0])}\")\n",
    "print(f\"doc_result[1]的模: {np.linalg.norm(doc_result[1])}\")\n",
    "cosine_similarity_normalized = np.dot(doc_result[0], doc_result[1])\n",
    "print(f\"doc_result[0]与doc_result[1]之间的相似度: {cosine_similarity_normalized}\")"
   ]
  },
  {
   "cell_type": "code",
   "execution_count": 7,
   "metadata": {},
   "outputs": [
    {
     "name": "stdout",
     "output_type": "stream",
     "text": [
      "doc_result[0]的模: 0.9999999668938295\n",
      "doc_result[1]的模: 1.0000000349748062\n",
      "doc_result[0]与doc_result[1]之间的相似度: 0.6709808574437868\n"
     ]
    }
   ],
   "source": [
    "# BAAI\n",
    "# https://python.langchain.com/v0.1/docs/integrations/text_embedding/bge_huggingface/\n",
    "# https://huggingface.co/BAAI/bge-large-zh-v1.5\n",
    "from langchain_community.embeddings import HuggingFaceBgeEmbeddings\n",
    "\n",
    "model_name = \"BAAI/bge-large-zh-v1.5\"\n",
    "model_kwargs = {\"device\": \"cpu\"}\n",
    "encode_kwargs = {\"normalize_embeddings\": True}\n",
    "embedding_model = HuggingFaceBgeEmbeddings(\n",
    "    model_name=model_name, model_kwargs=model_kwargs, encode_kwargs=encode_kwargs\n",
    ")\n",
    "\n",
    "text_li = ['How is the weather today?', '今天天气怎么样?']\n",
    "doc_result = embedding_model.embed_documents(text_li)\n",
    "print(f\"doc_result[0]的模: {np.linalg.norm(doc_result[0])}\")\n",
    "print(f\"doc_result[1]的模: {np.linalg.norm(doc_result[1])}\")\n",
    "cosine_similarity_normalized = np.dot(doc_result[0], doc_result[1])\n",
    "print(f\"doc_result[0]与doc_result[1]之间的相似度: {cosine_similarity_normalized}\")"
   ]
  },
  {
   "cell_type": "code",
   "execution_count": 8,
   "metadata": {},
   "outputs": [
    {
     "name": "stdout",
     "output_type": "stream",
     "text": [
      "doc_result[0]的模: 0.999999959239315\n",
      "doc_result[1]的模: 1.0000000772689546\n",
      "doc_result[0]与doc_result[1]之间的相似度: 0.9607147514729826\n"
     ]
    }
   ],
   "source": [
    "# BAAI\n",
    "# https://python.langchain.com/v0.1/docs/integrations/text_embedding/bge_huggingface/\n",
    "# https://huggingface.co/BAAI/bge-m3\n",
    "from langchain_community.embeddings import HuggingFaceBgeEmbeddings\n",
    "\n",
    "model_name = \"BAAI/bge-m3\"\n",
    "model_kwargs = {\"device\": \"cpu\"}\n",
    "encode_kwargs = {\"normalize_embeddings\": True}\n",
    "embedding_model = HuggingFaceBgeEmbeddings(\n",
    "    model_name=model_name, model_kwargs=model_kwargs, encode_kwargs=encode_kwargs\n",
    ")\n",
    "\n",
    "text_li = ['How is the weather today?', '今天天气怎么样?']\n",
    "doc_result = embedding_model.embed_documents(text_li)\n",
    "print(f\"doc_result[0]的模: {np.linalg.norm(doc_result[0])}\")\n",
    "print(f\"doc_result[1]的模: {np.linalg.norm(doc_result[1])}\")\n",
    "cosine_similarity_normalized = np.dot(doc_result[0], doc_result[1])\n",
    "print(f\"doc_result[0]与doc_result[1]之间的相似度: {cosine_similarity_normalized}\")"
   ]
  },
  {
   "cell_type": "code",
   "execution_count": null,
   "metadata": {},
   "outputs": [],
   "source": [
    "# 嵌入模型\n",
    "# from dotenv import load_dotenv\n",
    "# from langchain.embeddings import HuggingFaceEmbeddings\n",
    "# import numpy as np\n",
    "# load_dotenv()\n",
    "# embedding_model = HuggingFaceEmbeddings(\n",
    "#     # model_name=\"jinaai/jina-embeddings-v2-base-zh\",\n",
    "#     # model_name = \"sentence-transformers/all-MiniLM-L6-v2\",\n",
    "#     model_name = \"sentence-transformers/paraphrase-multilingual-MiniLM-L12-v2\",\n",
    "#     model_kwargs={'device': 'cpu'},\n",
    "#     encode_kwargs={'normalize_embeddings': True})\n",
    "# text = '今天天气怎么样?'\n",
    "# query_result = embedding_model.embed_query(text)\n",
    "# print(f\"向量长度: {len(query_result)}\")\n",
    "# text_li = ['How is the weather today?', '今天天气怎么样?']\n",
    "# doc_result = embedding_model.embed_documents(text_li)\n",
    "# print(f\"doc_result[0]的模: {np.linalg.norm(doc_result[0])}\")\n",
    "# print(f\"doc_result[1]的模: {np.linalg.norm(doc_result[1])}\")\n",
    "# cosine_similarity_normalized = np.dot(doc_result[0], doc_result[1])\n",
    "# print(f\"doc_result[0]与doc_result[1]之间的相似度: {cosine_similarity_normalized}\")\n",
    "\n",
    "# from dotenv import load_dotenv\n",
    "# from langchain.embeddings import HuggingFaceEmbeddings\n",
    "# load_dotenv()\n",
    "# embedding_model = HuggingFaceEmbeddings(\n",
    "#     # model_name=\"jinaai/jina-embeddings-v2-base-zh\",\n",
    "#     # model_name = \"sentence-transformers/all-MiniLM-L6-v2\",\n",
    "#     model_name = \"sentence-transformers/paraphrase-multilingual-MiniLM-L12-v2\",\n",
    "#     model_kwargs={'device': 'cpu'},\n",
    "#     encode_kwargs={'normalize_embeddings': True})\n",
    "\n",
    "# from langchain_community.embeddings import HuggingFaceBgeEmbeddings\n",
    "# from dotenv import load_dotenv\n",
    "# load_dotenv()\n",
    "# model_name = \"BAAI/bge-large-zh-v1.5\"\n",
    "# model_kwargs = {\"device\": \"cpu\"}\n",
    "# encode_kwargs = {\"normalize_embeddings\": True}\n",
    "# embedding_model = HuggingFaceBgeEmbeddings(\n",
    "#     model_name=model_name, model_kwargs=model_kwargs, encode_kwargs=encode_kwargs\n",
    "# )\n",
    "\n",
    "from langchain_fireworks import FireworksEmbeddings\n",
    "from dotenv import load_dotenv\n",
    "load_dotenv()\n",
    "embedding_model = FireworksEmbeddings(model=\"nomic-ai/nomic-embed-text-v1.5\")\n",
    "\n",
    "# 向量存储\n",
    "from langchain.vectorstores import FAISS\n",
    "db = FAISS.from_documents(documents=documents, embedding=embedding_model)\n",
    "print(f\"索引片段数: {db.index.ntotal}\")\n",
    "# 检索器\n",
    "retriever = db.as_retriever()"
   ]
  }
 ],
 "metadata": {
  "kernelspec": {
   "display_name": "langchain",
   "language": "python",
   "name": "python3"
  },
  "language_info": {
   "codemirror_mode": {
    "name": "ipython",
    "version": 3
   },
   "file_extension": ".py",
   "mimetype": "text/x-python",
   "name": "python",
   "nbconvert_exporter": "python",
   "pygments_lexer": "ipython3",
   "version": "3.1.-1"
  }
 },
 "nbformat": 4,
 "nbformat_minor": 2
}
