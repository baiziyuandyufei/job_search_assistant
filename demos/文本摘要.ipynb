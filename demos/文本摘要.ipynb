{
 "cells": [
  {
   "cell_type": "markdown",
   "metadata": {},
   "source": [
    "参考：\n",
    "https://python.langchain.com/v0.2/docs/tutorials/summarization/"
   ]
  },
  {
   "cell_type": "code",
   "execution_count": 1,
   "metadata": {},
   "outputs": [],
   "source": [
    "from langchain_fireworks import ChatFireworks\n",
    "from dotenv import load_dotenv\n",
    "\n",
    "load_dotenv()\n",
    "# 使用Mistral-7b\n",
    "llm = ChatFireworks(temperature=0, model=\"accounts/fireworks/models/mixtral-8x7b-instruct\")"
   ]
  },
  {
   "cell_type": "code",
   "execution_count": 8,
   "metadata": {},
   "outputs": [
    {
     "name": "stdout",
     "output_type": "stream",
     "text": [
      "这个工作职位涉及AI算法的设计、开发、优化和调试，需要参与产品需求分析和技术方案的制定，同时还需要定期分享和交流技术知识，以提高团队整体水平。另外，工作人员还需要关注AI算法领域的最新技术和趋势，为公司提供相关技术支持。\n",
      "任职要求包括硕士学历或以上，相关专业背景，至少5年的AI算法项目实践经验，熟悉Python和C++等编程语言，具备数据分析和处理能力，以及良好的沟通和团队合作能力。有团队管理经验者优先。\n"
     ]
    }
   ],
   "source": [
    "from langchain.chains.combine_documents.stuff import StuffDocumentsChain\n",
    "from langchain.chains.llm import LLMChain\n",
    "from langchain_core.prompts import PromptTemplate\n",
    "from langchain_core.documents import Document\n",
    "import re\n",
    "\n",
    "\n",
    "# Define prompt\n",
    "prompt_template = \"\"\"对下边内容写一份简明摘要:\n",
    "\"{text}\"\n",
    "汉语的简明摘要 :\"\"\"\n",
    "prompt = PromptTemplate.from_template(prompt_template)\n",
    "\n",
    "# Define LLM chain\n",
    "llm_chain = LLMChain(llm=llm, prompt=prompt)\n",
    "\n",
    "# Define StuffDocumentsChain\n",
    "stuff_chain = StuffDocumentsChain(llm_chain=llm_chain, document_variable_name=\"text\")\n",
    "\n",
    "doc = Document(page_content=\"\"\"岗位职责：\n",
    "1. 负责AI算法的设计、开发和优化，提高算法的效率和准确性；\n",
    "2. 参与产品需求分析和技术方案制定，为产品提供技术支持；\n",
    "3. 负责AI算法的实现和调试，保证算法的稳定性和可靠性；\n",
    "4. 参与团队技术分享和交流，提高团队整体技术水平；\n",
    "5. 跟踪AI算法领域的最新技术和发展趋势，为公司提供技术建议和支持。\n",
    "任职要求：\n",
    "1. 硕士及以上学历，计算机、数学、统计学等相关专业；\n",
    "2. 熟练掌握机器学习、深度学习等AI算法，有5年以上实际项目落地应用经验；有团队管理经验优先；\n",
    "3. 熟悉Python、C++等编程语言，有良好的编程能力；\n",
    "4. 具备较强的数据分析和处理能力，熟悉数据挖掘和统计分析方法；\n",
    "5. 具备良好的沟通能力和团队合作精神，能够适应快节奏的工作环境。\"\"\", \n",
    "metadata={\"url\": \"https://www.zhipin.com/job_detail/29d4b5477bb65f861HF72Ni5EldU.html?securityId=xpdW7WwYYdQX6-n18hho1Q6rgGzeizvwM2rSGBcUf3XPvVnGIFqp3ZYKW5zzw_Mqz7MM3Mpm6V21ANKf4LowG92bWAI1El1rUYavAF1fX05bebCpZTF8Kko%7E\"}\n",
    ")\n",
    "docs = [doc]\n",
    "res = stuff_chain.invoke(docs)[\"output_text\"]\n",
    "res = re.sub('\\n\\n','\\n',res)\n",
    "print(res)"
   ]
  }
 ],
 "metadata": {
  "kernelspec": {
   "display_name": "langchain0.2",
   "language": "python",
   "name": "python3"
  },
  "language_info": {
   "codemirror_mode": {
    "name": "ipython",
    "version": 3
   },
   "file_extension": ".py",
   "mimetype": "text/x-python",
   "name": "python",
   "nbconvert_exporter": "python",
   "pygments_lexer": "ipython3",
   "version": "3.11.9"
  }
 },
 "nbformat": 4,
 "nbformat_minor": 2
}
