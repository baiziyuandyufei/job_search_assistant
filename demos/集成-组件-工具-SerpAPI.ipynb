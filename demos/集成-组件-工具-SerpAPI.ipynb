{
 "cells": [
  {
   "cell_type": "markdown",
   "metadata": {},
   "source": [
    "参考\n",
    "\n",
    "- [https://python.langchain.com/v0.2/docs/integrations/tools/serpapi/](https://python.langchain.com/v0.2/docs/integrations/tools/serpapi/)\n",
    "- [https://api.python.langchain.com/en/latest/utilities/langchain_community.utilities.serpapi.SerpAPIWrapper.html](https://api.python.langchain.com/en/latest/utilities/langchain_community.utilities.serpapi.SerpAPIWrapper.html)"
   ]
  },
  {
   "cell_type": "code",
   "execution_count": 9,
   "metadata": {},
   "outputs": [
    {
     "name": "stdout",
     "output_type": "stream",
     "text": [
      "0 鬼怪网为您提供各种类型的鬼故事,灵异事件,每天更新故事,望广大鬼友给与支持和建议反馈！\n",
      "1 鬼怪屋是您寻找灵异鬼故事、恐怖小说的首选网站。我们提供丰富的短篇和长篇鬼故事，包括校园、医院等主题，以及真实灵异事件和有声鬼故事。立即探索，体验心跳加速的 ...\n",
      "2 鬼故事网(guigushi.cc)精心收集超吓人的恐怖短篇鬼故事，包含有张震讲鬼故事、民间鬼故事、老烟斗鬼故事、真实鬼故事、搞笑鬼故事、校园鬼故事、乡村鬼故事等鬼故事 ...\n",
      "3 首页 · 鬼故事 · 真实鬼故事 · 民间鬼故事 · 短篇鬼故事 · 长篇鬼故事 · 国外鬼故事 · 国外鬼故事英文原版 · 有声鬼故事 · 网址导航 · 投稿赚钱 开通会员.\n",
      "4 美国 · 夕阳之国 · 布朗山的异世界之光 · 谜一般的石墙杰克森将军手臂之墓 · 藐视 · 从暗网回来的天堂之门 · 塞西尔酒店的恶灵（二） · 塞西尔酒店的恶灵（一） · 圣詹姆士旅馆的17 ...\n",
      "5 ... 故事网,大型专业故事网站,恐怖故事,鬼故事. ... 恐怖故事鬼故事. 恐怖故事鬼故事. 三国中最恐怖的款待：为招待刘备杀妻供食. 李国文. 新聊斋（1）. 佚名. 新聊斋（2）. 佚名 ...\n",
      "6 真实鬼故事 · 表弟的好朋友阿獠 · 战场上的奇迹 · 鬼报恩 · 同屋三分惊 · 诡异的镜子 · 写字楼奇遇 · 钓水鬼 · 捉鬼 ...\n",
      "7 鬼姐姐鬼故事网发布世界各地短篇鬼故事,长篇鬼故事,恐怖鬼故事,医院鬼故事,校园鬼故事,网站风格精美独特,图文并茂,为你带来视觉与心灵上的享受！\n",
      "8 分享些国内、香港、台湾、国外收集的恐怖故事，短篇吓人的恐怖鬼故事大全、都市传说、灵异事件、怪谈物语、恐怖小说、电影、连续剧/恐怖短片等等,让自己减减压~\n",
      "9 中华五千年，诞生多少怪诞故事？让我们一起来领略民间的鬼故事。鬼怪屋-这里不仅有：民间鬼故事、民间灵异故事、民间恐怖故事、民间恐怖鬼故事， ...\n"
     ]
    }
   ],
   "source": [
    "from langchain_community.utilities import SerpAPIWrapper\n",
    "from dotenv import load_dotenv\n",
    "\n",
    "load_dotenv()\n",
    "search = SerpAPIWrapper()\n",
    "results = search.run(\"鬼故事网站\")\n",
    "results = eval(results)\n",
    "for i, res in enumerate(results):\n",
    "    print(i ,res)"
   ]
  },
  {
   "cell_type": "code",
   "execution_count": 10,
   "metadata": {},
   "outputs": [
    {
     "name": "stdout",
     "output_type": "stream",
     "text": [
      "0 鬼怪屋是您寻找灵异鬼故事、恐怖小说的首选网站。我们提供丰富的短篇和长篇鬼故事，包括校园、医院等主题，以及真实灵异事件和有声鬼故事。立即探索，体验心跳加速的 …提供好看的短篇鬼故事，这里的短篇鬼故事很吓人哦，还给大家提供：短篇恐怖鬼 …张震讲鬼故事这个栏目中，张震将会为大家讲述恐怖灵异、惊悚吓人鬼故事等故 …鬼吹灯全集分别为鬼吹灯1和鬼吹灯2两部,分别是精绝古城、龙岭迷窟、云南虫谷、 …盗墓笔记，盗墓笔记小说全集在线阅读，提供盗墓笔记1到盗墓笔记8的全文阅读， …茅山后裔. 故事说的是张国忠、张毅城父子运用茅山道术踏足天下的故事，从驱鬼镇 …鬼怪屋是您寻找灵异鬼故事、恐怖小说的首选网站。我们提供丰富的短篇和长篇鬼 …\n",
      "1 灵隐岛是一个专注于灵异、恐怖、奇异的社区，提供灵异事件、鬼故事、恐怖小说、灵异图片、灵异视频等内容，以及灵异求助、灵异探索、灵异学习等版块。如果你 …\n",
      "2 灵异志（中国灵异事件档案馆）成立于2009年3月14日，是一个科学研究灵异现象的网站，旨在记录与分享最真实的灵异事件，透过灵异现象探索世界隐藏的另一面，揭开未 …\n",
      "3 在这个专题中，我们将为您呈现100个来自世界各地的民间鬼故事。这些故事充满了神秘、惊悚和超自然元素，让您感受到真正的恐怖和惊悚。我们将带领您走进这些民间传说 …\n",
      "4 这是一个收集了500篇民间鬼故事的网站，包括亲身经历、异话、诡异男人、异巷、乡村遇鬼、世界十大灵异事件等多种类型的鬼故事。如果你喜欢听老一辈讲民间鬼故事，这里有 …\n",
      "5 全球性的真實鬼故事以及都市傳說， 真實發生的靈異故事，喜歡聽鬼故事的朋友千萬不要錯過了。 💥每天至少講兩部鬼故事唷！\n",
      "6 民间鬼故事. 短篇鬼故事. 真实鬼故事. 医院鬼故事. 学校鬼故事. 999个短篇鬼故事. 超吓人鬼故事. 农村鬼故事. 现代鬼故事. 午夜鬼故事. 网络鬼故事. 太平间鬼故事. 宿舍鬼故事. 惊 …\n",
      "7 鬼怪屋是您寻找灵异鬼故事、恐怖小说的首选网站。我们提供丰富的短篇和长篇鬼故事，包括校园、医院等主题，以及真实灵异事件和有声鬼故事。立即探索，体验心跳加速的 …\n",
      "8 鬼怪网为您提供各种类型的鬼故事,灵异事件,每天更新故事,望广大鬼友给与支持和建议反馈！\n",
      "9 9 个带有恐怖短篇小说的网站. 如果你想听一个可怕的故事，你可能没有时间跑去图书馆或书店。. 当然，您可以从亚马逊下载电子书或在 Audible 上购买有声读物 …\n"
     ]
    }
   ],
   "source": [
    "# 使用参数\n",
    "params = {\n",
    "    \"engine\": \"bing\",\n",
    "    \"gl\": \"us\",\n",
    "    \"hl\": \"zh\",\n",
    "}\n",
    "search = SerpAPIWrapper(params=params)\n",
    "results = search.run(\"鬼故事网站\")\n",
    "results = eval(results)\n",
    "for i, res in enumerate(results):\n",
    "    print(i ,res)"
   ]
  },
  {
   "cell_type": "code",
   "execution_count": 13,
   "metadata": {},
   "outputs": [],
   "source": [
    "from langchain_core.tools import Tool\n",
    "\n",
    "# You can create the tool to pass to an agent\n",
    "repl_tool = Tool(\n",
    "    name=\"python_repl\",\n",
    "    description=\"A Python shell. Use this to execute python commands. Input should be a valid python command. If you want to see the output of a value, you should print it out with `print(...)`.\",\n",
    "    func=search.run,\n",
    ")"
   ]
  }
 ],
 "metadata": {
  "kernelspec": {
   "display_name": "langchain-py11",
   "language": "python",
   "name": "python3"
  },
  "language_info": {
   "codemirror_mode": {
    "name": "ipython",
    "version": 3
   },
   "file_extension": ".py",
   "mimetype": "text/x-python",
   "name": "python",
   "nbconvert_exporter": "python",
   "pygments_lexer": "ipython3",
   "version": "3.11.9"
  }
 },
 "nbformat": 4,
 "nbformat_minor": 2
}
