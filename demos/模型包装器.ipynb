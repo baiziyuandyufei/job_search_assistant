{
 "cells": [
  {
   "cell_type": "code",
   "execution_count": 1,
   "metadata": {},
   "outputs": [],
   "source": [
    "import os\n",
    "from langchain_fireworks import ChatFireworks\n",
    "from dotenv import load_dotenv\n",
    "\n",
    "load_dotenv()\n",
    "# 使用Mistral-7b\n",
    "llm = ChatFireworks(model=\"accounts/fireworks/models/mixtral-8x7b-instruct\")"
   ]
  },
  {
   "cell_type": "code",
   "execution_count": 5,
   "metadata": {},
   "outputs": [
    {
     "name": "stdout",
     "output_type": "stream",
     "text": [
      "小明今天去图书馆学习，偶然间看到了一本名为“《程序员的笑话集》”的书。\n",
      "\n",
      "他打开该书，第一页就看到了一条笑话：\n",
      "\n",
      "“为什么程序员总是穿一样的衣服？”\n",
      "\n",
      "“因为他们不喜欢重复 themselves！”\n",
      "\n",
      "小明看了这个笑话，不禁笑出声来。\n",
      "\n",
      "原因是，他自己就是一个程序员，而且确实每天都穿着一样的衣服！\n"
     ]
    }
   ],
   "source": [
    "response = llm.invoke('给我讲个笑话，请用汉语。')\n",
    "print(response.content)"
   ]
  },
  {
   "cell_type": "code",
   "execution_count": 7,
   "metadata": {},
   "outputs": [
    {
     "name": "stdout",
     "output_type": "stream",
     "text": [
      "感谢您的信任，我会尽力为您的新创业公司取一个有意义、与AI相关的中文名称。\n",
      "\n",
      " considering your company's focus on AI, how about the name \"智趣科技\" (Zhìqù Kējì)?\n",
      "\n",
      "\"Zhìqù\" (智趣) is a combination of two Chinese characters, \"Zhì\" (智) means wisdom or intelligence, and \"Qù\" (趣) means interest or fun. Together, \"Zhìqù\" represents the idea of combining intelligence and fun, which is a core concept in AI development.\n",
      "\n",
      "\"Kējì\" (科技) is another Chinese word that means technology or engineering. By combining \"Zhìqù\" and \"Kējì\", the name \"智趣科技\" represents a company that focuses on AI technology with the goal of making it intelligent and fun.\n",
      "\n",
      "I hope this name suggestion meets your needs and I wish you the best of luck with your new AI-focused company!\n"
     ]
    }
   ],
   "source": [
    "from langchain.schema import AIMessage,HumanMessage,SystemMessage\n",
    "\n",
    "response = llm.invoke([SystemMessage(content=\"你是一个取名大师，你擅长为创业公司取名字,用汉语\"),\n",
    "            HumanMessage(content=\"帮我给新公司取个名字，要包含AI\"),])\n",
    "print(response.content)"
   ]
  }
 ],
 "metadata": {
  "kernelspec": {
   "display_name": "langchain",
   "language": "python",
   "name": "python3"
  },
  "language_info": {
   "codemirror_mode": {
    "name": "ipython",
    "version": 3
   },
   "file_extension": ".py",
   "mimetype": "text/x-python",
   "name": "python",
   "nbconvert_exporter": "python",
   "pygments_lexer": "ipython3",
   "version": "3.11.9"
  }
 },
 "nbformat": 4,
 "nbformat_minor": 2
}
