{
 "cells": [
  {
   "cell_type": "code",
   "execution_count": 10,
   "metadata": {},
   "outputs": [
    {
     "name": "stdout",
     "output_type": "stream",
     "text": [
      "prompt_template类型:  <class 'langchain_core.prompts.prompt.PromptTemplate'>\n",
      "prompt类型:  <class 'langchain_core.prompt_values.StringPromptValue'>\n"
     ]
    }
   ],
   "source": [
    "# 使用PromptTemplate类的from_template实例化提示模板\n",
    "from langchain_core.prompts import PromptTemplate\n",
    "\n",
    "prompt_template = PromptTemplate.from_template(\n",
    "    \"讲一个关于{topic}的{adjective}笑话。\"\n",
    ")\n",
    "# PromptTemplate为Runnable对象\n",
    "print(\"prompt_template类型: \",type(prompt_template))\n",
    "# 输入字典类型\n",
    "prompt = prompt_template.invoke({\"topic\":\"猫\",\"adjective\":\"好笑\"})\n",
    "# 输出PromptValue对象\n",
    "print(\"prompt类型: \",type(prompt))"
   ]
  },
  {
   "cell_type": "code",
   "execution_count": 1,
   "metadata": {},
   "outputs": [
    {
     "data": {
      "text/plain": [
       "'给我讲一个关于肥猪的冷笑话'"
      ]
     },
     "execution_count": 1,
     "metadata": {},
     "output_type": "execute_result"
    }
   ],
   "source": [
    "# 使用PromptTemplate类的构造函数实例化提示模板\n",
    "from langchain import PromptTemplate\n",
    "prompt = PromptTemplate(\n",
    "    input_variables = [\"adjective\",\"topic\"],\n",
    "    template = \"给我讲一个关于{topic}的{adjective}笑话\"\n",
    ")\n",
    "prompt.invoke(adjective=\"冷\",topic=\"肥猪\")"
   ]
  },
  {
   "cell_type": "code",
   "execution_count": 12,
   "metadata": {},
   "outputs": [
    {
     "name": "stdout",
     "output_type": "stream",
     "text": [
      "text='给出每个输入的反义词\\n\\n单词: 快乐\\n反义词:悲伤\\n\\n单词: 高\\n反义词:矮\\n\\n单词: 大\\n反义词: '\n"
     ]
    }
   ],
   "source": [
    "# 提供少量示例的提示模板\n",
    "from langchain import PromptTemplate, FewShotPromptTemplate\n",
    "\n",
    "examples = [\n",
    "    {\"word\":\"快乐\",\"antonym\":\"悲伤\"},\n",
    "    {\"word\":\"高\",\"antonym\":\"矮\"}\n",
    "]\n",
    "example_prompt = PromptTemplate(\n",
    "    input_variables=[\"word\",\"antonym\"],\n",
    "    template=\"单词: {word}\\n反义词:{antonym}\\n\"\n",
    ")\n",
    "few_shot_prompt = FewShotPromptTemplate(\n",
    "    examples=examples,\n",
    "    example_prompt=example_prompt,\n",
    "    prefix=\"给出每个输入的反义词\\n\",\n",
    "    suffix=\"单词: {input}\\n反义词: \",\n",
    "    input_variables=[\"input\"],\n",
    "    example_separator=\"\\n\"\n",
    ")\n",
    "print(few_shot_prompt.invoke({\"input\":\"大\"}))"
   ]
  },
  {
   "cell_type": "code",
   "execution_count": 9,
   "metadata": {},
   "outputs": [
    {
     "name": "stdout",
     "output_type": "stream",
     "text": [
      "<class 'langchain_core.prompts.chat.ChatPromptTemplate'>\n",
      "<class 'langchain_core.prompt_values.ChatPromptValue'>\n"
     ]
    }
   ],
   "source": [
    "# 使用ChatPromptTemplate的from_messages实例化聊天提示模板\n",
    "from langchain_core.prompts import ChatPromptTemplate\n",
    "\n",
    "prompt_template = ChatPromptTemplate.from_messages([\n",
    "    (\"system\", \"你是一个助手\"),\n",
    "    (\"user\", \"给我讲一个关于{topic}的笑话\")\n",
    "])\n",
    "# ChatPromptTemplate为Runnable对象\n",
    "print(\"prompt_template类型: \", type(prompt_template))\n",
    "# 输入字典类型\n",
    "prompt = prompt_template.invoke({\"topic\": \"猫\"})\n",
    "# 输出PromptValue对象\n",
    "print(\"prompt类型: \", type(prompt))"
   ]
  }
 ],
 "metadata": {
  "kernelspec": {
   "display_name": "langchain",
   "language": "python",
   "name": "python3"
  },
  "language_info": {
   "codemirror_mode": {
    "name": "ipython",
    "version": 3
   },
   "file_extension": ".py",
   "mimetype": "text/x-python",
   "name": "python",
   "nbconvert_exporter": "python",
   "pygments_lexer": "ipython3",
   "version": "3.11.9"
  }
 },
 "nbformat": 4,
 "nbformat_minor": 2
}
