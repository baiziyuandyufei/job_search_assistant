{
 "cells": [
  {
   "cell_type": "markdown",
   "metadata": {},
   "source": [
    "对比只使用LLM和检索器+LLM的问答效果\n",
    "[参考](https://python.langchain.com/v0.1/docs/integrations/retrievers/tavily/)"
   ]
  },
  {
   "cell_type": "code",
   "execution_count": 6,
   "metadata": {},
   "outputs": [
    {
     "name": "stdout",
     "output_type": "stream",
     "text": [
      "根据提供的文档内容，自然语言处理相关的职位包括但不限于：\n",
      "\n",
      "1. NLP（自然语言处理）算法岗\n",
      "2. NLP技术研究-自然语言处理方向的实习生\n",
      "3. NLP工程师\n",
      "4. 腾讯NLP算法岗\n",
      "\n",
      "这些职位通常需要计算机科学、人工智能或相关领域的教育背景，并且熟悉自然语言处理相关的工具和技术。\n"
     ]
    }
   ],
   "source": [
    "from langchain_community.llms import Ollama\n",
    "from langchain_core.output_parsers import StrOutputParser\n",
    "from langchain_core.prompts import ChatPromptTemplate\n",
    "from langchain_core.runnables import RunnablePassthrough\n",
    "from langchain_community.retrievers import TavilySearchAPIRetriever\n",
    "import os\n",
    "\n",
    "# 检索器\n",
    "os.environ[\"TAVILY_API_KEY\"] = \"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\"\n",
    "retriever = TavilySearchAPIRetriever(k=3)\n",
    "\n",
    "# 语言模型\n",
    "llm = Ollama(model=\"qwen:7b\",\n",
    "             base_url=\"http://192.168.1.10:11434\",\n",
    "             num_gpu=1)\n",
    "\n",
    "# 提示\n",
    "prompt = ChatPromptTemplate.from_template(\n",
    "    \"\"\"Answer the question based only on the context provided.\n",
    "\n",
    "Context: {context}\n",
    "\n",
    "Question: {question}\"\"\"\n",
    ")\n",
    "# 集成检索器到链中\n",
    "chain = (\n",
    "    RunnablePassthrough.assign(context=(lambda x: x[\"question\"]) | retriever)\n",
    "    | prompt\n",
    "    | llm\n",
    "    | StrOutputParser()\n",
    ")\n",
    "\n",
    "print(chain.invoke({\"question\": \"自然语言处理相关职位有哪些？\"}))"
   ]
  },
  {
   "cell_type": "code",
   "execution_count": 5,
   "metadata": {},
   "outputs": [
    {
     "name": "stdout",
     "output_type": "stream",
     "text": [
      "自然语言处理（Natural Language Processing，NLP）涉及多个职位和专业领域。以下是一些常见的与NLP相关的职位：\n",
      "\n",
      "1. **自然语言处理工程师**：负责设计、开发和优化NLP系统。\n",
      "\n",
      "2. **算法研究员**：专注于研究新的NLP算法和技术。\n",
      "\n",
      "3. **数据科学家**：利用NLP技术分析大量文本数据，为决策提供支持。\n",
      "\n",
      "4. **智能客服（AI客服）**：使用NLP技术构建能够理解和回应人类语言的聊天机器人。\n",
      "\n",
      "5. **翻译员/多语种专家**：在某些特殊情况下，可能需要处理和理解不同语言的文本。\n"
     ]
    }
   ],
   "source": [
    "from langchain_core.output_parsers import StrOutputParser\n",
    "from langchain_core.prompts import ChatPromptTemplate\n",
    "from langchain_community.llms import Ollama\n",
    "\n",
    "# 语言模型\n",
    "llm = Ollama(model=\"qwen:7b\",\n",
    "             base_url=\"http://192.168.1.10:11434\",\n",
    "             num_gpu=1)\n",
    "# 提示\n",
    "prompt = ChatPromptTemplate.from_messages([\n",
    "    (\"system\", \"Answer the question\"),\n",
    "    (\"user\", \"{input}\")\n",
    "])\n",
    "\n",
    "# 输出解析器\n",
    "output_parser = StrOutputParser()\n",
    "\n",
    "chain = prompt | llm | output_parser\n",
    "print(chain.invoke({\"input\": \"自然语言处理相关职位有哪些？\"}))"
   ]
  }
 ],
 "metadata": {
  "kernelspec": {
   "display_name": "langchain",
   "language": "python",
   "name": "python3"
  },
  "language_info": {
   "codemirror_mode": {
    "name": "ipython",
    "version": 3
   },
   "file_extension": ".py",
   "mimetype": "text/x-python",
   "name": "python",
   "nbconvert_exporter": "python",
   "pygments_lexer": "ipython3",
   "version": "3.11.9"
  }
 },
 "nbformat": 4,
 "nbformat_minor": 2
}
